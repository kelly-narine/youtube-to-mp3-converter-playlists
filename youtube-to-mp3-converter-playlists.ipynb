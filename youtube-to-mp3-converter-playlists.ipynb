{
 "cells": [
  {
   "attachments": {},
   "cell_type": "markdown",
   "metadata": {},
   "source": [
    "Installations"
   ]
  },
  {
   "cell_type": "code",
   "execution_count": null,
   "metadata": {},
   "outputs": [],
   "source": [
    "# !pip install -U ipykernel\n",
    "!pip install selenium"
   ]
  },
  {
   "attachments": {},
   "cell_type": "markdown",
   "metadata": {},
   "source": [
    "Module imports and Web Driver initiation"
   ]
  },
  {
   "cell_type": "code",
   "execution_count": 1,
   "metadata": {},
   "outputs": [
    {
     "name": "stderr",
     "output_type": "stream",
     "text": [
      "C:\\Users\\knari\\AppData\\Local\\Temp\\ipykernel_14436\\4007139632.py:12: DeprecationWarning: executable_path has been deprecated, please pass in a Service object\n",
      "  browser = webdriver.Chrome(executable_path=driver_path, chrome_options=option)\n",
      "C:\\Users\\knari\\AppData\\Local\\Temp\\ipykernel_14436\\4007139632.py:12: DeprecationWarning: use options instead of chrome_options\n",
      "  browser = webdriver.Chrome(executable_path=driver_path, chrome_options=option)\n"
     ]
    }
   ],
   "source": [
    "from selenium import webdriver\n",
    "\n",
    "driver_path = \"C:/Users/knari/Downloads/chromedriver_win32/chromedriver.exe\"\n",
    "brave_path = \"C:/Program Files/BraveSoftware/Brave-Browser/Application/brave.exe\"\n",
    "\n",
    "option = webdriver.ChromeOptions()\n",
    "option.binary_location = brave_path\n",
    "# option.add_argument(\"--incognito\") OPTIONAL\n",
    "# option.add_argument(\"--headless\") OPTIONAL\n",
    "\n",
    "# Create new Instance of Chrome\n",
    "browser = webdriver.Chrome(executable_path=driver_path, chrome_options=option)\n",
    "\n",
    "# browser.get(\"https://www.google.ca\")\n",
    "browser.get(\"https://www.youtube.com/playlist?list=PL9AYw-xpBo8-fdLZyBCBvEVdpoTrzfgQp\")"
   ]
  },
  {
   "attachments": {},
   "cell_type": "markdown",
   "metadata": {},
   "source": [
    "Extract YouTube Playlist Data"
   ]
  },
  {
   "cell_type": "code",
   "execution_count": null,
   "metadata": {},
   "outputs": [],
   "source": [
    "# browser.get(\"https://www.youtube.com/playlist?list=PL9AYw-xpBo8-fdLZyBCBvEVdpoTrzfgQp\")\n",
    "# print(browser.page_source)\n",
    "# browser.quit()\n"
   ]
  },
  {
   "cell_type": "code",
   "execution_count": 5,
   "metadata": {},
   "outputs": [
    {
     "data": {
      "text/plain": [
       "'1\\n1:25\\nKaal Bhairav Ashtakam - 🔱🙏🏻Sachet♥️Parampara\\nSachet Parampara\\n•\\n1.1M views • 8 months ago\\n2\\n1:01\\nHanuman Chalisa X Siya Var Ram | Sachet Parampara | 20000 comments will share FULL VERSION ♥️\\nSachet Parampara\\n•\\n3.3M views • 1 year ago\\n3\\n1:34\\nOm Namah Shivaaye New Song - Sachet♥️Parampara\\nSachet Parampara\\n•\\n257K views • 5 months ago\\n4\\n1:15\\nShiv Rudrashtakam | Sachet♥️Parampara | Namami Shamishan X Shivaaye 🔱🙏🏻\\nSachet Parampara\\n•\\n604K views • 8 months ago\\n5\\n1:01\\nKahe Tose Sajna X Sajna Ve Sajna | Sachet Parampara New Song | Kahe Tose Sajna Unplugged #coversong\\nVaibhav Unplugged\\n•\\n207K views • 4 months ago'"
      ]
     },
     "execution_count": 5,
     "metadata": {},
     "output_type": "execute_result"
    }
   ],
   "source": [
    "from selenium.webdriver.common.by import By\n",
    "# print(browser.page_source)\n",
    "# browser.quit()\n",
    "page = browser.page_source\n",
    "# page\n",
    "\n",
    "\n",
    "# all_links = browser.find_elements(By.TAG_NAME, 'a')\n",
    "\n",
    "# extracts playlist video titles, post date, time, etc. \n",
    "all_links = browser.find_elements(By.XPATH, '/html/body/ytd-app/div[1]/ytd-page-manager/ytd-browse/ytd-two-column-browse-results-renderer/div[1]/ytd-section-list-renderer/div[2]/ytd-item-section-renderer/div[3]/ytd-playlist-video-list-renderer/div[3]')\n",
    "all_links"
   ]
  }
 ],
 "metadata": {
  "kernelspec": {
   "display_name": "base",
   "language": "python",
   "name": "python3"
  },
  "language_info": {
   "codemirror_mode": {
    "name": "ipython",
    "version": 3
   },
   "file_extension": ".py",
   "mimetype": "text/x-python",
   "name": "python",
   "nbconvert_exporter": "python",
   "pygments_lexer": "ipython3",
   "version": "3.8.8"
  },
  "orig_nbformat": 4,
  "vscode": {
   "interpreter": {
    "hash": "3cd8864bbfdabba084d1bddddb93280afc0031babc8c5ad03bf52bdc63669ff0"
   }
  }
 },
 "nbformat": 4,
 "nbformat_minor": 2
}
