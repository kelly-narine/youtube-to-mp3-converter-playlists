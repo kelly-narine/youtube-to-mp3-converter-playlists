{
 "cells": [
  {
   "attachments": {},
   "cell_type": "markdown",
   "metadata": {},
   "source": [
    "Installations"
   ]
  },
  {
   "cell_type": "code",
   "execution_count": null,
   "metadata": {},
   "outputs": [],
   "source": [
    "# !pip install -U ipykernel\n",
    "!pip install selenium"
   ]
  },
  {
   "attachments": {},
   "cell_type": "markdown",
   "metadata": {},
   "source": [
    "Module imports and Web Driver initiation"
   ]
  },
  {
   "cell_type": "code",
   "execution_count": 1,
   "metadata": {},
   "outputs": [
    {
     "name": "stderr",
     "output_type": "stream",
     "text": [
      "C:\\Users\\knari\\AppData\\Local\\Temp\\ipykernel_17180\\2112329104.py:12: DeprecationWarning: executable_path has been deprecated, please pass in a Service object\n",
      "  browser = webdriver.Chrome(executable_path=driver_path, chrome_options=option)\n",
      "C:\\Users\\knari\\AppData\\Local\\Temp\\ipykernel_17180\\2112329104.py:12: DeprecationWarning: use options instead of chrome_options\n",
      "  browser = webdriver.Chrome(executable_path=driver_path, chrome_options=option)\n"
     ]
    }
   ],
   "source": [
    "from selenium import webdriver\n",
    "\n",
    "driver_path = \"C:/Users/knari/Downloads/chromedriver_win32/chromedriver.exe\"\n",
    "brave_path = \"C:/Program Files/BraveSoftware/Brave-Browser/Application/brave.exe\"\n",
    "\n",
    "option = webdriver.ChromeOptions()\n",
    "option.binary_location = brave_path\n",
    "# option.add_argument(\"--incognito\") OPTIONAL\n",
    "# option.add_argument(\"--headless\") OPTIONAL\n",
    "\n",
    "# Create new Instance of Chrome\n",
    "browser = webdriver.Chrome(executable_path=driver_path, chrome_options=option)\n",
    "\n",
    "browser.get(\"https://www.google.ca\")"
   ]
  },
  {
   "attachments": {},
   "cell_type": "markdown",
   "metadata": {},
   "source": [
    "Extract YouTube Playlist Data"
   ]
  },
  {
   "cell_type": "code",
   "execution_count": null,
   "metadata": {},
   "outputs": [],
   "source": [
    "\n",
    "\n"
   ]
  }
 ],
 "metadata": {
  "kernelspec": {
   "display_name": "base",
   "language": "python",
   "name": "python3"
  },
  "language_info": {
   "codemirror_mode": {
    "name": "ipython",
    "version": 3
   },
   "file_extension": ".py",
   "mimetype": "text/x-python",
   "name": "python",
   "nbconvert_exporter": "python",
   "pygments_lexer": "ipython3",
   "version": "3.8.8"
  },
  "orig_nbformat": 4,
  "vscode": {
   "interpreter": {
    "hash": "3cd8864bbfdabba084d1bddddb93280afc0031babc8c5ad03bf52bdc63669ff0"
   }
  }
 },
 "nbformat": 4,
 "nbformat_minor": 2
}
