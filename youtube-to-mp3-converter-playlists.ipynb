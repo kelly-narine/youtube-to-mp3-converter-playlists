{
 "cells": [
  {
   "attachments": {},
   "cell_type": "markdown",
   "metadata": {},
   "source": [
    "Installations"
   ]
  },
  {
   "cell_type": "code",
   "execution_count": null,
   "metadata": {},
   "outputs": [],
   "source": [
    "# !pip install -U ipykernel\n",
    "!pip install selenium"
   ]
  },
  {
   "attachments": {},
   "cell_type": "markdown",
   "metadata": {},
   "source": [
    "Module imports and Web Driver initiation"
   ]
  },
  {
   "cell_type": "code",
   "execution_count": 4,
   "metadata": {},
   "outputs": [
    {
     "name": "stderr",
     "output_type": "stream",
     "text": [
      "C:\\Users\\knari\\AppData\\Local\\Temp\\ipykernel_12088\\4007139632.py:12: DeprecationWarning: executable_path has been deprecated, please pass in a Service object\n",
      "  browser = webdriver.Chrome(executable_path=driver_path, chrome_options=option)\n",
      "C:\\Users\\knari\\AppData\\Local\\Temp\\ipykernel_12088\\4007139632.py:12: DeprecationWarning: use options instead of chrome_options\n",
      "  browser = webdriver.Chrome(executable_path=driver_path, chrome_options=option)\n"
     ]
    }
   ],
   "source": [
    "from selenium import webdriver\n",
    "\n",
    "driver_path = \"C:/Users/knari/Downloads/chromedriver_win32/chromedriver.exe\"\n",
    "brave_path = \"C:/Program Files/BraveSoftware/Brave-Browser/Application/brave.exe\"\n",
    "\n",
    "option = webdriver.ChromeOptions()\n",
    "option.binary_location = brave_path\n",
    "# option.add_argument(\"--incognito\") OPTIONAL\n",
    "# option.add_argument(\"--headless\") OPTIONAL\n",
    "\n",
    "# Create new Instance of Chrome\n",
    "browser = webdriver.Chrome(executable_path=driver_path, chrome_options=option)\n",
    "\n",
    "browser.get(\"https://www.youtube.com/playlist?list=PL9AYw-xpBo8-fdLZyBCBvEVdpoTrzfgQp\")"
   ]
  },
  {
   "attachments": {},
   "cell_type": "markdown",
   "metadata": {},
   "source": [
    "Extract YouTube Playlist Data"
   ]
  },
  {
   "cell_type": "code",
   "execution_count": 5,
   "metadata": {},
   "outputs": [
    {
     "name": "stdout",
     "output_type": "stream",
     "text": [
      "https://www.youtube.com/watch?v=AY-8RYntLKs&list=PL9AYw-xpBo8-fdLZyBCBvEVdpoTrzfgQp&index=1\n",
      "https://www.youtube.com/watch?v=BifKi64oPXk&list=PL9AYw-xpBo8-fdLZyBCBvEVdpoTrzfgQp&index=2\n",
      "https://www.youtube.com/watch?v=IjSeIrjRUSw&list=PL9AYw-xpBo8-fdLZyBCBvEVdpoTrzfgQp&index=3\n",
      "https://www.youtube.com/watch?v=1FI_6kTVMb0&list=PL9AYw-xpBo8-fdLZyBCBvEVdpoTrzfgQp&index=4\n",
      "https://www.youtube.com/watch?v=ZveMDGb7mcU&list=PL9AYw-xpBo8-fdLZyBCBvEVdpoTrzfgQp&index=5\n"
     ]
    }
   ],
   "source": [
    "from selenium.webdriver.common.by import By\n",
    "\n",
    "all_urls = browser.find_elements(By.ID, 'thumbnail')\n",
    "playlist_urls = []\n",
    "for url in all_urls:\n",
    "  if (url.get_attribute('href') != None):\n",
    "    playlist_urls.append(url.get_attribute('href'))\n",
    "\n",
    "browser.quit() # closes the browser"
   ]
  },
  {
   "attachments": {},
   "cell_type": "markdown",
   "metadata": {},
   "source": [
    "Convert YouTube Playlist Links to MP3 Files"
   ]
  },
  {
   "cell_type": "code",
   "execution_count": null,
   "metadata": {},
   "outputs": [],
   "source": []
  }
 ],
 "metadata": {
  "kernelspec": {
   "display_name": "base",
   "language": "python",
   "name": "python3"
  },
  "language_info": {
   "codemirror_mode": {
    "name": "ipython",
    "version": 3
   },
   "file_extension": ".py",
   "mimetype": "text/x-python",
   "name": "python",
   "nbconvert_exporter": "python",
   "pygments_lexer": "ipython3",
   "version": "3.8.8"
  },
  "orig_nbformat": 4,
  "vscode": {
   "interpreter": {
    "hash": "3cd8864bbfdabba084d1bddddb93280afc0031babc8c5ad03bf52bdc63669ff0"
   }
  }
 },
 "nbformat": 4,
 "nbformat_minor": 2
}
