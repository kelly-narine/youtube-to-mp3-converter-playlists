{
 "cells": [
  {
   "attachments": {},
   "cell_type": "markdown",
   "metadata": {},
   "source": [
    "Installations"
   ]
  },
  {
   "cell_type": "code",
   "execution_count": null,
   "metadata": {},
   "outputs": [],
   "source": [
    "# !pip install -U ipykernel\n",
    "!pip install selenium"
   ]
  },
  {
   "attachments": {},
   "cell_type": "markdown",
   "metadata": {},
   "source": [
    "Module imports and Web Driver initiation"
   ]
  },
  {
   "cell_type": "code",
   "execution_count": 14,
   "metadata": {},
   "outputs": [
    {
     "name": "stderr",
     "output_type": "stream",
     "text": [
      "C:\\Users\\knari\\AppData\\Local\\Temp\\ipykernel_17180\\4007139632.py:12: DeprecationWarning: executable_path has been deprecated, please pass in a Service object\n",
      "  browser = webdriver.Chrome(executable_path=driver_path, chrome_options=option)\n",
      "C:\\Users\\knari\\AppData\\Local\\Temp\\ipykernel_17180\\4007139632.py:12: DeprecationWarning: use options instead of chrome_options\n",
      "  browser = webdriver.Chrome(executable_path=driver_path, chrome_options=option)\n"
     ]
    }
   ],
   "source": [
    "from selenium import webdriver\n",
    "\n",
    "driver_path = \"C:/Users/knari/Downloads/chromedriver_win32/chromedriver.exe\"\n",
    "brave_path = \"C:/Program Files/BraveSoftware/Brave-Browser/Application/brave.exe\"\n",
    "\n",
    "option = webdriver.ChromeOptions()\n",
    "option.binary_location = brave_path\n",
    "# option.add_argument(\"--incognito\") OPTIONAL\n",
    "# option.add_argument(\"--headless\") OPTIONAL\n",
    "\n",
    "# Create new Instance of Chrome\n",
    "browser = webdriver.Chrome(executable_path=driver_path, chrome_options=option)\n",
    "\n",
    "# browser.get(\"https://www.google.ca\")\n",
    "browser.get(\"https://www.youtube.com/playlist?list=PL9AYw-xpBo8-fdLZyBCBvEVdpoTrzfgQp\")"
   ]
  },
  {
   "attachments": {},
   "cell_type": "markdown",
   "metadata": {},
   "source": [
    "Extract YouTube Playlist Data"
   ]
  },
  {
   "cell_type": "code",
   "execution_count": null,
   "metadata": {},
   "outputs": [],
   "source": [
    "# browser.get(\"https://www.youtube.com/playlist?list=PL9AYw-xpBo8-fdLZyBCBvEVdpoTrzfgQp\")\n",
    "# print(browser.page_source)\n",
    "# browser.quit()\n"
   ]
  },
  {
   "cell_type": "code",
   "execution_count": 16,
   "metadata": {},
   "outputs": [
    {
     "data": {
      "text/plain": [
       "[<selenium.webdriver.remote.webelement.WebElement (session=\"fbc1d777bffe29cceb8c255c9e98d646\", element=\"127efbb5-56f3-4f6b-8c2b-4a5eef3bf7d0\")>,\n",
       " <selenium.webdriver.remote.webelement.WebElement (session=\"fbc1d777bffe29cceb8c255c9e98d646\", element=\"0d03fbdc-3261-49f9-88ac-b796d96b464f\")>,\n",
       " <selenium.webdriver.remote.webelement.WebElement (session=\"fbc1d777bffe29cceb8c255c9e98d646\", element=\"ce4243ae-9c0f-4a75-8106-7e7707895758\")>,\n",
       " <selenium.webdriver.remote.webelement.WebElement (session=\"fbc1d777bffe29cceb8c255c9e98d646\", element=\"56bedfeb-f0c9-4b15-8020-f6385b5470c6\")>,\n",
       " <selenium.webdriver.remote.webelement.WebElement (session=\"fbc1d777bffe29cceb8c255c9e98d646\", element=\"ac7454a3-358e-42a8-89aa-0af9ad1f400d\")>,\n",
       " <selenium.webdriver.remote.webelement.WebElement (session=\"fbc1d777bffe29cceb8c255c9e98d646\", element=\"4d69046a-065a-42b2-b9c9-bc3f416484d8\")>,\n",
       " <selenium.webdriver.remote.webelement.WebElement (session=\"fbc1d777bffe29cceb8c255c9e98d646\", element=\"dc0aa8e5-f4fe-437e-a59a-2beefc73622c\")>,\n",
       " <selenium.webdriver.remote.webelement.WebElement (session=\"fbc1d777bffe29cceb8c255c9e98d646\", element=\"996071e5-a47f-4038-9cdd-aaca666bcb29\")>,\n",
       " <selenium.webdriver.remote.webelement.WebElement (session=\"fbc1d777bffe29cceb8c255c9e98d646\", element=\"91ca1238-836a-45a0-86e4-de43083149d3\")>,\n",
       " <selenium.webdriver.remote.webelement.WebElement (session=\"fbc1d777bffe29cceb8c255c9e98d646\", element=\"e216a312-45f2-416a-86a8-cafd9a230ab2\")>,\n",
       " <selenium.webdriver.remote.webelement.WebElement (session=\"fbc1d777bffe29cceb8c255c9e98d646\", element=\"e5a421e0-517d-45b0-9b26-be60a0c22756\")>,\n",
       " <selenium.webdriver.remote.webelement.WebElement (session=\"fbc1d777bffe29cceb8c255c9e98d646\", element=\"88232954-0d3b-447d-8a0e-8c255715b8ee\")>,\n",
       " <selenium.webdriver.remote.webelement.WebElement (session=\"fbc1d777bffe29cceb8c255c9e98d646\", element=\"914e12de-3da3-4242-88d6-00b6e3c1b9e7\")>,\n",
       " <selenium.webdriver.remote.webelement.WebElement (session=\"fbc1d777bffe29cceb8c255c9e98d646\", element=\"7d63ee47-6194-4710-a99b-f884dc5d1e17\")>,\n",
       " <selenium.webdriver.remote.webelement.WebElement (session=\"fbc1d777bffe29cceb8c255c9e98d646\", element=\"684767f3-830d-47e9-a266-80fd7bc702cc\")>,\n",
       " <selenium.webdriver.remote.webelement.WebElement (session=\"fbc1d777bffe29cceb8c255c9e98d646\", element=\"8b77cbae-64c1-41a7-ba44-09948d69f844\")>,\n",
       " <selenium.webdriver.remote.webelement.WebElement (session=\"fbc1d777bffe29cceb8c255c9e98d646\", element=\"686cf07b-c421-4235-b9bb-fbe3a7c9a081\")>,\n",
       " <selenium.webdriver.remote.webelement.WebElement (session=\"fbc1d777bffe29cceb8c255c9e98d646\", element=\"a2f659aa-fcb8-4727-b78a-9577e4a58d1c\")>,\n",
       " <selenium.webdriver.remote.webelement.WebElement (session=\"fbc1d777bffe29cceb8c255c9e98d646\", element=\"db68294d-2296-4d29-aacb-9faf4f5c18bc\")>,\n",
       " <selenium.webdriver.remote.webelement.WebElement (session=\"fbc1d777bffe29cceb8c255c9e98d646\", element=\"7a647da1-d9fd-469b-9b25-ed97b736526c\")>,\n",
       " <selenium.webdriver.remote.webelement.WebElement (session=\"fbc1d777bffe29cceb8c255c9e98d646\", element=\"56f07feb-c8d9-44e5-bf43-d0604e2eb0ad\")>,\n",
       " <selenium.webdriver.remote.webelement.WebElement (session=\"fbc1d777bffe29cceb8c255c9e98d646\", element=\"1947f9d3-76e1-4ebb-bd9d-2d2a736abca2\")>,\n",
       " <selenium.webdriver.remote.webelement.WebElement (session=\"fbc1d777bffe29cceb8c255c9e98d646\", element=\"097e4573-561d-4a84-beab-321bfc4cd23b\")>,\n",
       " <selenium.webdriver.remote.webelement.WebElement (session=\"fbc1d777bffe29cceb8c255c9e98d646\", element=\"c80658a8-92ce-479d-8008-c225b5294e75\")>,\n",
       " <selenium.webdriver.remote.webelement.WebElement (session=\"fbc1d777bffe29cceb8c255c9e98d646\", element=\"dacdc140-1d4e-4672-932c-76456410dd4e\")>,\n",
       " <selenium.webdriver.remote.webelement.WebElement (session=\"fbc1d777bffe29cceb8c255c9e98d646\", element=\"03012169-d542-4561-ba42-ce93eac415b3\")>,\n",
       " <selenium.webdriver.remote.webelement.WebElement (session=\"fbc1d777bffe29cceb8c255c9e98d646\", element=\"f3cb23a4-f784-45d0-be41-821b9de0c8d8\")>,\n",
       " <selenium.webdriver.remote.webelement.WebElement (session=\"fbc1d777bffe29cceb8c255c9e98d646\", element=\"e141c8e4-f4f0-4ce5-b318-594500e91c35\")>,\n",
       " <selenium.webdriver.remote.webelement.WebElement (session=\"fbc1d777bffe29cceb8c255c9e98d646\", element=\"068c0997-a1fa-48cf-a391-dad5e42b3f19\")>,\n",
       " <selenium.webdriver.remote.webelement.WebElement (session=\"fbc1d777bffe29cceb8c255c9e98d646\", element=\"6057b5b2-1280-41e3-9f7a-0e26861cd6a0\")>,\n",
       " <selenium.webdriver.remote.webelement.WebElement (session=\"fbc1d777bffe29cceb8c255c9e98d646\", element=\"d28363fe-afdf-4d84-b946-7d96ff98f53e\")>,\n",
       " <selenium.webdriver.remote.webelement.WebElement (session=\"fbc1d777bffe29cceb8c255c9e98d646\", element=\"37b0c386-c04c-42a1-81c3-21c130c11cd1\")>,\n",
       " <selenium.webdriver.remote.webelement.WebElement (session=\"fbc1d777bffe29cceb8c255c9e98d646\", element=\"3a0f595f-5a3e-4159-a7b1-cee71dc222bb\")>,\n",
       " <selenium.webdriver.remote.webelement.WebElement (session=\"fbc1d777bffe29cceb8c255c9e98d646\", element=\"d542a40c-73cb-4373-8694-5805903b86e7\")>,\n",
       " <selenium.webdriver.remote.webelement.WebElement (session=\"fbc1d777bffe29cceb8c255c9e98d646\", element=\"acc29b6b-b946-4eb3-8a89-2525bec18954\")>,\n",
       " <selenium.webdriver.remote.webelement.WebElement (session=\"fbc1d777bffe29cceb8c255c9e98d646\", element=\"3fac62f6-3b23-4be8-ab8b-1105ed74156f\")>,\n",
       " <selenium.webdriver.remote.webelement.WebElement (session=\"fbc1d777bffe29cceb8c255c9e98d646\", element=\"c55db4e9-dad0-400b-bb12-7766b6e55f39\")>,\n",
       " <selenium.webdriver.remote.webelement.WebElement (session=\"fbc1d777bffe29cceb8c255c9e98d646\", element=\"80cb5ebf-c36c-4e9c-bc6e-f3b250de6be3\")>,\n",
       " <selenium.webdriver.remote.webelement.WebElement (session=\"fbc1d777bffe29cceb8c255c9e98d646\", element=\"35ddab28-275d-4893-a0d3-6ff2605b215b\")>,\n",
       " <selenium.webdriver.remote.webelement.WebElement (session=\"fbc1d777bffe29cceb8c255c9e98d646\", element=\"bb66cdde-1965-4b7c-94b2-698f6556269c\")>,\n",
       " <selenium.webdriver.remote.webelement.WebElement (session=\"fbc1d777bffe29cceb8c255c9e98d646\", element=\"04786b16-ec8b-42bb-a3e2-8ffd717aab5a\")>,\n",
       " <selenium.webdriver.remote.webelement.WebElement (session=\"fbc1d777bffe29cceb8c255c9e98d646\", element=\"c6bbf622-c7bc-44aa-b707-e23e835a54a9\")>,\n",
       " <selenium.webdriver.remote.webelement.WebElement (session=\"fbc1d777bffe29cceb8c255c9e98d646\", element=\"dca59f22-2e5c-44b9-9280-dbb46e83900d\")>,\n",
       " <selenium.webdriver.remote.webelement.WebElement (session=\"fbc1d777bffe29cceb8c255c9e98d646\", element=\"9c94b457-62d5-4184-bd59-d3045cf4d047\")>,\n",
       " <selenium.webdriver.remote.webelement.WebElement (session=\"fbc1d777bffe29cceb8c255c9e98d646\", element=\"258bc562-edcf-4ad9-8910-816019183da3\")>,\n",
       " <selenium.webdriver.remote.webelement.WebElement (session=\"fbc1d777bffe29cceb8c255c9e98d646\", element=\"2562d9a2-7f98-4555-9d3f-e7d043ceb20e\")>,\n",
       " <selenium.webdriver.remote.webelement.WebElement (session=\"fbc1d777bffe29cceb8c255c9e98d646\", element=\"619234ed-a20a-41d9-9def-559791e1744d\")>,\n",
       " <selenium.webdriver.remote.webelement.WebElement (session=\"fbc1d777bffe29cceb8c255c9e98d646\", element=\"b8233463-8610-4b3d-8d4d-0e740175a0ac\")>,\n",
       " <selenium.webdriver.remote.webelement.WebElement (session=\"fbc1d777bffe29cceb8c255c9e98d646\", element=\"f5ae176d-405f-4579-9611-282b66e8ab58\")>,\n",
       " <selenium.webdriver.remote.webelement.WebElement (session=\"fbc1d777bffe29cceb8c255c9e98d646\", element=\"a69e7caf-0f07-4e8b-aff8-f95db2de1380\")>]"
      ]
     },
     "execution_count": 16,
     "metadata": {},
     "output_type": "execute_result"
    }
   ],
   "source": [
    "from selenium.webdriver.common.by import By\n",
    "\n",
    "all_links = browser.find_elements(By.TAG_NAME, 'a')\n",
    "all_links"
   ]
  }
 ],
 "metadata": {
  "kernelspec": {
   "display_name": "base",
   "language": "python",
   "name": "python3"
  },
  "language_info": {
   "codemirror_mode": {
    "name": "ipython",
    "version": 3
   },
   "file_extension": ".py",
   "mimetype": "text/x-python",
   "name": "python",
   "nbconvert_exporter": "python",
   "pygments_lexer": "ipython3",
   "version": "3.8.8"
  },
  "orig_nbformat": 4,
  "vscode": {
   "interpreter": {
    "hash": "3cd8864bbfdabba084d1bddddb93280afc0031babc8c5ad03bf52bdc63669ff0"
   }
  }
 },
 "nbformat": 4,
 "nbformat_minor": 2
}
